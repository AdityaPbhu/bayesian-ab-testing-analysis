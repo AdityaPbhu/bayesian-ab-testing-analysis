{
 "cells": [
  {
   "cell_type": "markdown",
   "id": "8727f7f4",
   "metadata": {},
   "source": [
    "# Step 1: Objective\n",
    "\n",
    "In this project, I will analyse A/B test results using **Bayesian inference** to make probability-based business decisions.\n",
    "\n",
    "## Problem Definition\n",
    "\n",
    "Traditional A/B testing relies on frequentist hypothesis testing, providing p-values and confidence intervals that are often misunderstood in business contexts.\n",
    "\n",
    "Bayesian A/B testing, on the other hand, estimates the **probability that one variant is better than another**, offering clearer, intuitive insights for marketing, product, and growth teams.\n",
    "\n",
    "## Goals\n",
    "\n",
    "1. Load and clean an A/B testing dataset  \n",
    "2. Compare frequentist and Bayesian approaches to A/B test analysis  \n",
    "3. Calculate the probability that variant B is better than variant A  \n",
    "4. Provide business recommendations based on Bayesian results\n",
    "\n",
    "## Business Impact\n",
    "\n",
    "Using Bayesian inference for A/B tests enables data-driven decisions with **actionable probabilities**, reducing false positives and improving marketing and product optimisation strategies.\n"
   ]
  },
  {
   "cell_type": "markdown",
   "id": "63f5fb1f",
   "metadata": {},
   "source": [
    "# Step 2: Creating a Synthetic A/B Testing Dataset\n",
    "\n",
    "Since I do not have access to a public A/B testing dataset, I will generate a synthetic dataset for this analysis.\n",
    "\n",
    "I will create data for:\n",
    "\n",
    "- 10,000 users\n",
    "- Random assignment to control or treatment groups\n",
    "- Conversion rates of 10% for control and 12% for treatment groups\n",
    "\n",
    "This will help me practice and demonstrate A/B testing analysis using both frequentist and Bayesian approaches.\n"
   ]
  },
  {
   "cell_type": "code",
   "execution_count": 1,
   "id": "d754f38c",
   "metadata": {},
   "outputs": [
    {
     "name": "stdout",
     "output_type": "stream",
     "text": [
      "Synthetic A/B Testing dataset shape: (10000, 3)\n"
     ]
    },
    {
     "data": {
      "application/vnd.microsoft.datawrangler.viewer.v0+json": {
       "columns": [
        {
         "name": "index",
         "rawType": "int64",
         "type": "integer"
        },
        {
         "name": "user_id",
         "rawType": "int64",
         "type": "integer"
        },
        {
         "name": "group",
         "rawType": "object",
         "type": "string"
        },
        {
         "name": "converted",
         "rawType": "int64",
         "type": "integer"
        }
       ],
       "ref": "7ba127ec-1b9a-40e9-85a4-511ad5ae3f37",
       "rows": [
        [
         "0",
         "1",
         "control",
         "0"
        ],
        [
         "1",
         "2",
         "treatment",
         "0"
        ],
        [
         "2",
         "3",
         "control",
         "0"
        ],
        [
         "3",
         "4",
         "control",
         "0"
        ],
        [
         "4",
         "5",
         "control",
         "0"
        ]
       ],
       "shape": {
        "columns": 3,
        "rows": 5
       }
      },
      "text/html": [
       "<div>\n",
       "<style scoped>\n",
       "    .dataframe tbody tr th:only-of-type {\n",
       "        vertical-align: middle;\n",
       "    }\n",
       "\n",
       "    .dataframe tbody tr th {\n",
       "        vertical-align: top;\n",
       "    }\n",
       "\n",
       "    .dataframe thead th {\n",
       "        text-align: right;\n",
       "    }\n",
       "</style>\n",
       "<table border=\"1\" class=\"dataframe\">\n",
       "  <thead>\n",
       "    <tr style=\"text-align: right;\">\n",
       "      <th></th>\n",
       "      <th>user_id</th>\n",
       "      <th>group</th>\n",
       "      <th>converted</th>\n",
       "    </tr>\n",
       "  </thead>\n",
       "  <tbody>\n",
       "    <tr>\n",
       "      <th>0</th>\n",
       "      <td>1</td>\n",
       "      <td>control</td>\n",
       "      <td>0</td>\n",
       "    </tr>\n",
       "    <tr>\n",
       "      <th>1</th>\n",
       "      <td>2</td>\n",
       "      <td>treatment</td>\n",
       "      <td>0</td>\n",
       "    </tr>\n",
       "    <tr>\n",
       "      <th>2</th>\n",
       "      <td>3</td>\n",
       "      <td>control</td>\n",
       "      <td>0</td>\n",
       "    </tr>\n",
       "    <tr>\n",
       "      <th>3</th>\n",
       "      <td>4</td>\n",
       "      <td>control</td>\n",
       "      <td>0</td>\n",
       "    </tr>\n",
       "    <tr>\n",
       "      <th>4</th>\n",
       "      <td>5</td>\n",
       "      <td>control</td>\n",
       "      <td>0</td>\n",
       "    </tr>\n",
       "  </tbody>\n",
       "</table>\n",
       "</div>"
      ],
      "text/plain": [
       "   user_id      group  converted\n",
       "0        1    control          0\n",
       "1        2  treatment          0\n",
       "2        3    control          0\n",
       "3        4    control          0\n",
       "4        5    control          0"
      ]
     },
     "execution_count": 1,
     "metadata": {},
     "output_type": "execute_result"
    }
   ],
   "source": [
    "# Step 2: Import Libraries\n",
    "\n",
    "import pandas as pd\n",
    "import numpy as np\n",
    "\n",
    "# Set random seed for reproducibility\n",
    "np.random.seed(42)\n",
    "\n",
    "# Define total users\n",
    "n_users = 10000\n",
    "\n",
    "# Assign groups randomly\n",
    "groups = np.random.choice(['control', 'treatment'], size=n_users)\n",
    "\n",
    "# Define conversion rates\n",
    "p_control = 0.10\n",
    "p_treatment = 0.12\n",
    "\n",
    "# Generate conversions based on group assignment\n",
    "converted = []\n",
    "for group in groups:\n",
    "    if group == 'control':\n",
    "        converted.append(np.random.binomial(1, p_control))\n",
    "    else:\n",
    "        converted.append(np.random.binomial(1, p_treatment))\n",
    "\n",
    "# Create DataFrame\n",
    "ab_df = pd.DataFrame({\n",
    "    'user_id': np.arange(1, n_users + 1),\n",
    "    'group': groups,\n",
    "    'converted': converted\n",
    "})\n",
    "\n",
    "# Check dataset shape and preview\n",
    "print(\"Synthetic A/B Testing dataset shape:\", ab_df.shape)\n",
    "ab_df.head()\n"
   ]
  },
  {
   "cell_type": "markdown",
   "id": "ba2fb464",
   "metadata": {},
   "source": [
    "# Step 3: Data Understanding\n",
    "\n",
    "I will now explore the synthetic dataset to understand:\n",
    "\n",
    "- Group distribution (control vs treatment)\n",
    "- Overall conversion rates\n",
    "\n",
    "This helps verify that the dataset reflects the intended experimental setup and assumptions.\n"
   ]
  },
  {
   "cell_type": "code",
   "execution_count": 2,
   "id": "57d1f9ac",
   "metadata": {},
   "outputs": [
    {
     "name": "stdout",
     "output_type": "stream",
     "text": [
      "Group distribution:\n",
      "group\n",
      "control      5013\n",
      "treatment    4987\n",
      "Name: count, dtype: int64\n",
      "\n",
      "Conversion rates by group:\n",
      "group\n",
      "control      0.100339\n",
      "treatment    0.118709\n",
      "Name: converted, dtype: float64\n"
     ]
    }
   ],
   "source": [
    "# Step 3: Check group distribution\n",
    "\n",
    "group_counts = ab_df['group'].value_counts()\n",
    "print(\"Group distribution:\")\n",
    "print(group_counts)\n",
    "\n",
    "# Calculate conversion rate by group\n",
    "conversion_rates = ab_df.groupby('group')['converted'].mean()\n",
    "print(\"\\nConversion rates by group:\")\n",
    "print(conversion_rates)\n"
   ]
  },
  {
   "cell_type": "markdown",
   "id": "e6930a42",
   "metadata": {},
   "source": [
    "# Step 4: Frequentist A/B Test Analysis\n",
    "\n",
    "I will first analyse the data using a frequentist approach to:\n",
    "\n",
    "- Calculate conversion rate difference between treatment and control\n",
    "- Conduct a two-proportion z-test to determine statistical significance\n",
    "\n",
    "This provides a baseline comparison to the Bayesian approach.\n"
   ]
  },
  {
   "cell_type": "code",
   "execution_count": 3,
   "id": "18bb5d3f",
   "metadata": {},
   "outputs": [
    {
     "name": "stdout",
     "output_type": "stream",
     "text": [
      "Z-test statistic: 2.9413\n",
      "P-value: 0.0016\n"
     ]
    }
   ],
   "source": [
    "# Step 4: Frequentist two-proportion z-test\n",
    "\n",
    "from statsmodels.stats.proportion import proportions_ztest\n",
    "\n",
    "# Get conversion counts\n",
    "control_converted = ab_df[ab_df['group'] == 'control']['converted'].sum()\n",
    "treatment_converted = ab_df[ab_df['group'] == 'treatment']['converted'].sum()\n",
    "\n",
    "# Get sample sizes\n",
    "n_control = ab_df[ab_df['group'] == 'control'].shape[0]\n",
    "n_treatment = ab_df[ab_df['group'] == 'treatment'].shape[0]\n",
    "\n",
    "# Run z-test\n",
    "count = np.array([treatment_converted, control_converted])\n",
    "nobs = np.array([n_treatment, n_control])\n",
    "\n",
    "stat, pval = proportions_ztest(count, nobs, alternative='larger')\n",
    "\n",
    "print(f\"Z-test statistic: {stat:.4f}\")\n",
    "print(f\"P-value: {pval:.4f}\")\n"
   ]
  },
  {
   "cell_type": "markdown",
   "id": "58b6486a",
   "metadata": {},
   "source": [
    "# Step 4.1: Frequentist Interpretation\n",
    "\n",
    "If the p-value is less than 0.05, it suggests that the treatment group's conversion rate is significantly higher than the control group's.\n",
    "\n",
    "However, p-values are often misunderstood. Therefore, I will now analyse the same data using a Bayesian approach to estimate:\n",
    "\n",
    "- The **probability that treatment is better than control**, which is clearer for business decisions.\n"
   ]
  },
  {
   "cell_type": "markdown",
   "id": "95981058",
   "metadata": {},
   "source": [
    "# Step 5: Bayesian A/B Test Analysis\n",
    "\n",
    "I will now analyse the data using a Bayesian approach by:\n",
    "\n",
    "- Using **Beta distributions** to model conversion rates\n",
    "- Generating posterior distributions for control and treatment groups\n",
    "- Calculating the probability that the treatment conversion rate is higher than the control\n",
    "\n",
    "This approach provides intuitive insights such as:\n",
    "\n",
    "\"There is a 97% probability that treatment performs better than control.\"\n"
   ]
  },
  {
   "cell_type": "code",
   "execution_count": 4,
   "id": "5934317a",
   "metadata": {},
   "outputs": [],
   "source": [
    "# Step 5: Import necessary libraries\n",
    "\n",
    "import scipy.stats as stats\n",
    "import matplotlib.pyplot as plt\n",
    "\n",
    "# Set prior parameters (uninformative Beta(1,1) prior)\n",
    "alpha_prior = 1\n",
    "beta_prior = 1\n",
    "\n",
    "# Calculate posterior parameters for control group\n",
    "alpha_control = control_converted + alpha_prior\n",
    "beta_control = n_control - control_converted + beta_prior\n",
    "\n",
    "# Calculate posterior parameters for treatment group\n",
    "alpha_treatment = treatment_converted + alpha_prior\n",
    "beta_treatment = n_treatment - treatment_converted + beta_prior\n",
    "\n",
    "# Generate samples from posterior distributions\n",
    "samples_control = np.random.beta(alpha_control, beta_control, 100000)\n",
    "samples_treatment = np.random.beta(alpha_treatment, beta_treatment, 100000)\n"
   ]
  },
  {
   "cell_type": "markdown",
   "id": "69292b05",
   "metadata": {},
   "source": [
    "# Step 5.1: Visualising Posterior Distributions\n",
    "\n",
    "I will plot the posterior distributions for the control and treatment conversion rates to visualise their probabilities.\n"
   ]
  },
  {
   "cell_type": "code",
   "execution_count": 5,
   "id": "a176d21d",
   "metadata": {},
   "outputs": [
    {
     "data": {
      "image/png": "[encoded data removed]",
      "text/plain": [
       "<Figure size 1000x600 with 1 Axes>"
      ]
     },
     "metadata": {},
     "output_type": "display_data"
    }
   ],
   "source": [
    "# Step 5.1: Plot posterior distributions\n",
    "\n",
    "plt.figure(figsize=(10,6))\n",
    "plt.hist(samples_control, bins=100, alpha=0.5, label='Control')\n",
    "plt.hist(samples_treatment, bins=100, alpha=0.5, label='Treatment')\n",
    "plt.title('Posterior Distributions of Conversion Rates')\n",
    "plt.xlabel('Conversion Rate')\n",
    "plt.ylabel('Frequency')\n",
    "plt.legend()\n",
    "plt.show()\n"
   ]
  },
  {
   "cell_type": "markdown",
   "id": "55d19f54",
   "metadata": {},
   "source": [
    "# Step 5.2: Calculate Probability Treatment is Better than Control\n",
    "\n",
    "I will calculate the proportion of times the treatment sample is greater than the control sample to determine:\n",
    "\n",
    "- The probability that treatment outperforms control\n"
   ]
  },
  {
   "cell_type": "code",
   "execution_count": 6,
   "id": "dae41b07",
   "metadata": {},
   "outputs": [
    {
     "name": "stdout",
     "output_type": "stream",
     "text": [
      "Probability that treatment is better than control: 0.9986\n"
     ]
    }
   ],
   "source": [
    "# Step 5.2: Calculate probability\n",
    "\n",
    "prob_treatment_better = (samples_treatment > samples_control).mean()\n",
    "print(f\"Probability that treatment is better than control: {prob_treatment_better:.4f}\")\n"
   ]
  },
  {
   "cell_type": "markdown",
   "id": "f5102733",
   "metadata": {},
   "source": []
  }
 ],
 "metadata": {
  "kernelspec": {
   "display_name": "Python 3",
   "language": "python",
   "name": "python3"
  },
  "language_info": {
   "codemirror_mode": {
    "name": "ipython",
    "version": 3
   },
   "file_extension": ".py",
   "mimetype": "text/x-python",
   "name": "python",
   "nbconvert_exporter": "python",
   "pygments_lexer": "ipython3",
   "version": "3.13.3"
  }
 },
 "nbformat": 4,
 "nbformat_minor": 5
}
